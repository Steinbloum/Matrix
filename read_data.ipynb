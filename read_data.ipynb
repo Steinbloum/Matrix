{
 "cells": [
  {
   "cell_type": "code",
   "execution_count": 1,
   "metadata": {},
   "outputs": [],
   "source": [
    "import pandas as pd\n"
   ]
  },
  {
   "cell_type": "code",
   "execution_count": 2,
   "metadata": {},
   "outputs": [
    {
     "data": {
      "text/html": [
       "<div>\n",
       "<style scoped>\n",
       "    .dataframe tbody tr th:only-of-type {\n",
       "        vertical-align: middle;\n",
       "    }\n",
       "\n",
       "    .dataframe tbody tr th {\n",
       "        vertical-align: top;\n",
       "    }\n",
       "\n",
       "    .dataframe thead th {\n",
       "        text-align: right;\n",
       "    }\n",
       "</style>\n",
       "<table border=\"1\" class=\"dataframe\">\n",
       "  <thead>\n",
       "    <tr style=\"text-align: right;\">\n",
       "      <th></th>\n",
       "      <th>Unnamed: 0</th>\n",
       "      <th>Date</th>\n",
       "      <th>price</th>\n",
       "      <th>size</th>\n",
       "      <th>value</th>\n",
       "      <th>side</th>\n",
       "      <th>motive</th>\n",
       "      <th>pnl</th>\n",
       "      <th>fees</th>\n",
       "      <th>wallet</th>\n",
       "      <th>trade_count</th>\n",
       "      <th>position side</th>\n",
       "    </tr>\n",
       "  </thead>\n",
       "  <tbody>\n",
       "    <tr>\n",
       "      <th>0</th>\n",
       "      <td>0</td>\n",
       "      <td>2020-01-27 16:00:00</td>\n",
       "      <td>0.004011</td>\n",
       "      <td>NaN</td>\n",
       "      <td>NaN</td>\n",
       "      <td>NaN</td>\n",
       "      <td>INIT</td>\n",
       "      <td>NaN</td>\n",
       "      <td>NaN</td>\n",
       "      <td>1000.00000</td>\n",
       "      <td>0</td>\n",
       "      <td>NaN</td>\n",
       "    </tr>\n",
       "    <tr>\n",
       "      <th>1</th>\n",
       "      <td>1</td>\n",
       "      <td>2020-01-27 16:00:00</td>\n",
       "      <td>0.004011</td>\n",
       "      <td>124657.19272</td>\n",
       "      <td>500.000000</td>\n",
       "      <td>buy</td>\n",
       "      <td>open</td>\n",
       "      <td>NaN</td>\n",
       "      <td>0.200000</td>\n",
       "      <td>999.80000</td>\n",
       "      <td>1</td>\n",
       "      <td>long</td>\n",
       "    </tr>\n",
       "    <tr>\n",
       "      <th>2</th>\n",
       "      <td>2</td>\n",
       "      <td>2021-11-24 08:00:00</td>\n",
       "      <td>0.188240</td>\n",
       "      <td>-124657.19272</td>\n",
       "      <td>23465.469958</td>\n",
       "      <td>sell</td>\n",
       "      <td>END</td>\n",
       "      <td>22965.469958</td>\n",
       "      <td>9.386188</td>\n",
       "      <td>23955.88377</td>\n",
       "      <td>1</td>\n",
       "      <td>long</td>\n",
       "    </tr>\n",
       "  </tbody>\n",
       "</table>\n",
       "</div>"
      ],
      "text/plain": [
       "   Unnamed: 0                 Date     price          size         value  \\\n",
       "0           0  2020-01-27 16:00:00  0.004011           NaN           NaN   \n",
       "1           1  2020-01-27 16:00:00  0.004011  124657.19272    500.000000   \n",
       "2           2  2021-11-24 08:00:00  0.188240 -124657.19272  23465.469958   \n",
       "\n",
       "   side motive           pnl      fees       wallet  trade_count position side  \n",
       "0   NaN   INIT           NaN       NaN   1000.00000            0           NaN  \n",
       "1   buy   open           NaN  0.200000    999.80000            1          long  \n",
       "2  sell    END  22965.469958  9.386188  23955.88377            1          long  "
      ]
     },
     "execution_count": 2,
     "metadata": {},
     "output_type": "execute_result"
    }
   ],
   "source": [
    "df = pd.read_csv('reports/anxious_bulldozer/Gladys_the_bad/Gladys_the_bad_trade_history.csv')\n",
    "df\n"
   ]
  },
  {
   "cell_type": "code",
   "execution_count": 4,
   "metadata": {},
   "outputs": [],
   "source": [
    "ditca={'open':{'price' : 45, 'stop':30}, 'type':'heui'}\n"
   ]
  },
  {
   "cell_type": "code",
   "execution_count": 7,
   "metadata": {},
   "outputs": [
    {
     "data": {
      "text/plain": [
       "45"
      ]
     },
     "execution_count": 7,
     "metadata": {},
     "output_type": "execute_result"
    }
   ],
   "source": [
    "ditca['open']['price']"
   ]
  }
 ],
 "metadata": {
  "interpreter": {
   "hash": "fbe097ad7c5b8474ff6d5fb970f14b2207022314db3771420660f0b213894d9b"
  },
  "kernelspec": {
   "display_name": "Python 3.8.10 64-bit ('venvbtc': venv)",
   "name": "python3"
  },
  "language_info": {
   "codemirror_mode": {
    "name": "ipython",
    "version": 3
   },
   "file_extension": ".py",
   "mimetype": "text/x-python",
   "name": "python",
   "nbconvert_exporter": "python",
   "pygments_lexer": "ipython3",
   "version": "3.8.10"
  },
  "orig_nbformat": 4
 },
 "nbformat": 4,
 "nbformat_minor": 2
}
